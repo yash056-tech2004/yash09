{
  "cells": [
    {
      "cell_type": "markdown",
      "metadata": {
        "id": "view-in-github",
        "colab_type": "text"
      },
      "source": [
        "<a href=\"https://colab.research.google.com/github/yash056-tech2004/yash09/blob/main/Airline_delay.ipynb\" target=\"_parent\"><img src=\"https://colab.research.google.com/assets/colab-badge.svg\" alt=\"Open In Colab\"/></a>"
      ]
    },
    {
      "cell_type": "markdown",
      "metadata": {
        "id": "6oKeQWMq5z9W"
      },
      "source": [
        "#💼 Business Context\n",
        "Flight delays can significantly affect time-sensitive operations, especially for businesses dependent on air logistics. With thousands of records containing delay types (carrier, weather, NAS, etc.) and cancellation/diversion information, there is a strong opportunity to:\n",
        "\n",
        "Identify key drivers of delays,\n",
        "\n",
        "Predict expected delay durations (regression),\n",
        "\n",
        "Classify flights as \"delay-prone\" or \"on-time\" (classification),\n",
        "\n",
        "Optimize scheduling and contingency planning for logistics operations.\n",
        "\n"
      ]
    },
    {
      "cell_type": "markdown",
      "metadata": {
        "id": "nr-9MtEE1Jxa"
      },
      "source": [
        "#🧩 Problem Statement\n",
        "Flight delays disrupt airline operations, affect passenger satisfaction, and cause significant financial losses. This project aims to analyze historical airline delay data to identify key factors contributing to delays, such as weather, carrier issues, and airspace congestion.\n",
        "\n",
        "The goal is to build machine learning models that:\n",
        "\n",
        "Predict total delay duration for a flight (regression), and\n",
        "\n",
        "Classify whether a flight will be delayed  (classification).\n",
        "\n",
        "These insights will help airlines and partners improve scheduling, reduce disruptions, and enhance operational efficiency."
      ]
    },
    {
      "cell_type": "markdown",
      "metadata": {
        "id": "cJy9HTDy475J"
      },
      "source": [
        "#Observation\n",
        "* 1 Importing useful libraries.\n"
      ]
    },
    {
      "cell_type": "code",
      "execution_count": null,
      "metadata": {
        "id": "cZsoc86ZRsIo"
      },
      "outputs": [],
      "source": [
        "import pandas as pd\n",
        "import numpy as np\n",
        "import seaborn as sns\n",
        "import matplotlib.pyplot as plt"
      ]
    },
    {
      "cell_type": "code",
      "execution_count": null,
      "metadata": {
        "colab": {
          "base_uri": "https://localhost:8080/",
          "height": 321
        },
        "id": "jsdGyl5jR726",
        "outputId": "5a49e776-33e4-45f2-8801-8e5e452667d1",
        "collapsed": true
      },
      "outputs": [
        {
          "output_type": "error",
          "ename": "FileNotFoundError",
          "evalue": "[Errno 2] No such file or directory: 'Airlines.csv'",
          "traceback": [
            "\u001b[0;31m---------------------------------------------------------------------------\u001b[0m",
            "\u001b[0;31mFileNotFoundError\u001b[0m                         Traceback (most recent call last)",
            "\u001b[0;32m/tmp/ipython-input-2-2978611395.py\u001b[0m in \u001b[0;36m<cell line: 0>\u001b[0;34m()\u001b[0m\n\u001b[0;32m----> 1\u001b[0;31m \u001b[0mdf\u001b[0m\u001b[0;34m=\u001b[0m\u001b[0mpd\u001b[0m\u001b[0;34m.\u001b[0m\u001b[0mread_csv\u001b[0m\u001b[0;34m(\u001b[0m\u001b[0;34m\"Airlines.csv\"\u001b[0m\u001b[0;34m)\u001b[0m\u001b[0;34m\u001b[0m\u001b[0;34m\u001b[0m\u001b[0m\n\u001b[0m\u001b[1;32m      2\u001b[0m \u001b[0mdf\u001b[0m\u001b[0;34m.\u001b[0m\u001b[0mhead\u001b[0m\u001b[0;34m(\u001b[0m\u001b[0;34m)\u001b[0m\u001b[0;34m\u001b[0m\u001b[0;34m\u001b[0m\u001b[0m\n",
            "\u001b[0;32m/usr/local/lib/python3.11/dist-packages/pandas/io/parsers/readers.py\u001b[0m in \u001b[0;36mread_csv\u001b[0;34m(filepath_or_buffer, sep, delimiter, header, names, index_col, usecols, dtype, engine, converters, true_values, false_values, skipinitialspace, skiprows, skipfooter, nrows, na_values, keep_default_na, na_filter, verbose, skip_blank_lines, parse_dates, infer_datetime_format, keep_date_col, date_parser, date_format, dayfirst, cache_dates, iterator, chunksize, compression, thousands, decimal, lineterminator, quotechar, quoting, doublequote, escapechar, comment, encoding, encoding_errors, dialect, on_bad_lines, delim_whitespace, low_memory, memory_map, float_precision, storage_options, dtype_backend)\u001b[0m\n\u001b[1;32m   1024\u001b[0m     \u001b[0mkwds\u001b[0m\u001b[0;34m.\u001b[0m\u001b[0mupdate\u001b[0m\u001b[0;34m(\u001b[0m\u001b[0mkwds_defaults\u001b[0m\u001b[0;34m)\u001b[0m\u001b[0;34m\u001b[0m\u001b[0;34m\u001b[0m\u001b[0m\n\u001b[1;32m   1025\u001b[0m \u001b[0;34m\u001b[0m\u001b[0m\n\u001b[0;32m-> 1026\u001b[0;31m     \u001b[0;32mreturn\u001b[0m \u001b[0m_read\u001b[0m\u001b[0;34m(\u001b[0m\u001b[0mfilepath_or_buffer\u001b[0m\u001b[0;34m,\u001b[0m \u001b[0mkwds\u001b[0m\u001b[0;34m)\u001b[0m\u001b[0;34m\u001b[0m\u001b[0;34m\u001b[0m\u001b[0m\n\u001b[0m\u001b[1;32m   1027\u001b[0m \u001b[0;34m\u001b[0m\u001b[0m\n\u001b[1;32m   1028\u001b[0m \u001b[0;34m\u001b[0m\u001b[0m\n",
            "\u001b[0;32m/usr/local/lib/python3.11/dist-packages/pandas/io/parsers/readers.py\u001b[0m in \u001b[0;36m_read\u001b[0;34m(filepath_or_buffer, kwds)\u001b[0m\n\u001b[1;32m    618\u001b[0m \u001b[0;34m\u001b[0m\u001b[0m\n\u001b[1;32m    619\u001b[0m     \u001b[0;31m# Create the parser.\u001b[0m\u001b[0;34m\u001b[0m\u001b[0;34m\u001b[0m\u001b[0m\n\u001b[0;32m--> 620\u001b[0;31m     \u001b[0mparser\u001b[0m \u001b[0;34m=\u001b[0m \u001b[0mTextFileReader\u001b[0m\u001b[0;34m(\u001b[0m\u001b[0mfilepath_or_buffer\u001b[0m\u001b[0;34m,\u001b[0m \u001b[0;34m**\u001b[0m\u001b[0mkwds\u001b[0m\u001b[0;34m)\u001b[0m\u001b[0;34m\u001b[0m\u001b[0;34m\u001b[0m\u001b[0m\n\u001b[0m\u001b[1;32m    621\u001b[0m \u001b[0;34m\u001b[0m\u001b[0m\n\u001b[1;32m    622\u001b[0m     \u001b[0;32mif\u001b[0m \u001b[0mchunksize\u001b[0m \u001b[0;32mor\u001b[0m \u001b[0miterator\u001b[0m\u001b[0;34m:\u001b[0m\u001b[0;34m\u001b[0m\u001b[0;34m\u001b[0m\u001b[0m\n",
            "\u001b[0;32m/usr/local/lib/python3.11/dist-packages/pandas/io/parsers/readers.py\u001b[0m in \u001b[0;36m__init__\u001b[0;34m(self, f, engine, **kwds)\u001b[0m\n\u001b[1;32m   1618\u001b[0m \u001b[0;34m\u001b[0m\u001b[0m\n\u001b[1;32m   1619\u001b[0m         \u001b[0mself\u001b[0m\u001b[0;34m.\u001b[0m\u001b[0mhandles\u001b[0m\u001b[0;34m:\u001b[0m \u001b[0mIOHandles\u001b[0m \u001b[0;34m|\u001b[0m \u001b[0;32mNone\u001b[0m \u001b[0;34m=\u001b[0m \u001b[0;32mNone\u001b[0m\u001b[0;34m\u001b[0m\u001b[0;34m\u001b[0m\u001b[0m\n\u001b[0;32m-> 1620\u001b[0;31m         \u001b[0mself\u001b[0m\u001b[0;34m.\u001b[0m\u001b[0m_engine\u001b[0m \u001b[0;34m=\u001b[0m \u001b[0mself\u001b[0m\u001b[0;34m.\u001b[0m\u001b[0m_make_engine\u001b[0m\u001b[0;34m(\u001b[0m\u001b[0mf\u001b[0m\u001b[0;34m,\u001b[0m \u001b[0mself\u001b[0m\u001b[0;34m.\u001b[0m\u001b[0mengine\u001b[0m\u001b[0;34m)\u001b[0m\u001b[0;34m\u001b[0m\u001b[0;34m\u001b[0m\u001b[0m\n\u001b[0m\u001b[1;32m   1621\u001b[0m \u001b[0;34m\u001b[0m\u001b[0m\n\u001b[1;32m   1622\u001b[0m     \u001b[0;32mdef\u001b[0m \u001b[0mclose\u001b[0m\u001b[0;34m(\u001b[0m\u001b[0mself\u001b[0m\u001b[0;34m)\u001b[0m \u001b[0;34m->\u001b[0m \u001b[0;32mNone\u001b[0m\u001b[0;34m:\u001b[0m\u001b[0;34m\u001b[0m\u001b[0;34m\u001b[0m\u001b[0m\n",
            "\u001b[0;32m/usr/local/lib/python3.11/dist-packages/pandas/io/parsers/readers.py\u001b[0m in \u001b[0;36m_make_engine\u001b[0;34m(self, f, engine)\u001b[0m\n\u001b[1;32m   1878\u001b[0m                 \u001b[0;32mif\u001b[0m \u001b[0;34m\"b\"\u001b[0m \u001b[0;32mnot\u001b[0m \u001b[0;32min\u001b[0m \u001b[0mmode\u001b[0m\u001b[0;34m:\u001b[0m\u001b[0;34m\u001b[0m\u001b[0;34m\u001b[0m\u001b[0m\n\u001b[1;32m   1879\u001b[0m                     \u001b[0mmode\u001b[0m \u001b[0;34m+=\u001b[0m \u001b[0;34m\"b\"\u001b[0m\u001b[0;34m\u001b[0m\u001b[0;34m\u001b[0m\u001b[0m\n\u001b[0;32m-> 1880\u001b[0;31m             self.handles = get_handle(\n\u001b[0m\u001b[1;32m   1881\u001b[0m                 \u001b[0mf\u001b[0m\u001b[0;34m,\u001b[0m\u001b[0;34m\u001b[0m\u001b[0;34m\u001b[0m\u001b[0m\n\u001b[1;32m   1882\u001b[0m                 \u001b[0mmode\u001b[0m\u001b[0;34m,\u001b[0m\u001b[0;34m\u001b[0m\u001b[0;34m\u001b[0m\u001b[0m\n",
            "\u001b[0;32m/usr/local/lib/python3.11/dist-packages/pandas/io/common.py\u001b[0m in \u001b[0;36mget_handle\u001b[0;34m(path_or_buf, mode, encoding, compression, memory_map, is_text, errors, storage_options)\u001b[0m\n\u001b[1;32m    871\u001b[0m         \u001b[0;32mif\u001b[0m \u001b[0mioargs\u001b[0m\u001b[0;34m.\u001b[0m\u001b[0mencoding\u001b[0m \u001b[0;32mand\u001b[0m \u001b[0;34m\"b\"\u001b[0m \u001b[0;32mnot\u001b[0m \u001b[0;32min\u001b[0m \u001b[0mioargs\u001b[0m\u001b[0;34m.\u001b[0m\u001b[0mmode\u001b[0m\u001b[0;34m:\u001b[0m\u001b[0;34m\u001b[0m\u001b[0;34m\u001b[0m\u001b[0m\n\u001b[1;32m    872\u001b[0m             \u001b[0;31m# Encoding\u001b[0m\u001b[0;34m\u001b[0m\u001b[0;34m\u001b[0m\u001b[0m\n\u001b[0;32m--> 873\u001b[0;31m             handle = open(\n\u001b[0m\u001b[1;32m    874\u001b[0m                 \u001b[0mhandle\u001b[0m\u001b[0;34m,\u001b[0m\u001b[0;34m\u001b[0m\u001b[0;34m\u001b[0m\u001b[0m\n\u001b[1;32m    875\u001b[0m                 \u001b[0mioargs\u001b[0m\u001b[0;34m.\u001b[0m\u001b[0mmode\u001b[0m\u001b[0;34m,\u001b[0m\u001b[0;34m\u001b[0m\u001b[0;34m\u001b[0m\u001b[0m\n",
            "\u001b[0;31mFileNotFoundError\u001b[0m: [Errno 2] No such file or directory: 'Airlines.csv'"
          ]
        }
      ],
      "source": [
        "df=pd.read_csv(\"Airlines.csv\")\n",
        "df.head()"
      ]
    },
    {
      "cell_type": "markdown",
      "metadata": {
        "id": "-OfItpbEb_Cd"
      },
      "source": [
        "# Observations:\n",
        "* The data set has 9 columns.\n",
        "* The data set has 62949 rows."
      ]
    },
    {
      "cell_type": "code",
      "execution_count": null,
      "metadata": {
        "id": "ocxkHikDSQLb"
      },
      "outputs": [],
      "source": [
        "df.shape"
      ]
    },
    {
      "cell_type": "code",
      "execution_count": null,
      "metadata": {
        "id": "5Yk6zUqySLzF"
      },
      "outputs": [],
      "source": [
        "df.info()"
      ]
    },
    {
      "cell_type": "markdown",
      "metadata": {
        "id": "V3bsMUBc5q7Y"
      },
      "source": [
        "#Observation\n",
        "* 1 Rows: 62,949 total, 1 missing in most columns.\n",
        "* 2 Id: Just a unique identifier.\n",
        "* 3 Flight: Many unique flights (1–7813), high variance.\n",
        "* 4 DayOfWeek: Values 3–6 only (mid-week data).\n",
        "* 5 Time: Spread across the day, median around 12:30 PM.\n",
        "* 6 Length: Flights last 24–655 mins, average ~130 mins."
      ]
    },
    {
      "cell_type": "code",
      "execution_count": null,
      "metadata": {
        "id": "hd_GX1mPSPU2"
      },
      "outputs": [],
      "source": [
        "df.describe()"
      ]
    },
    {
      "cell_type": "markdown",
      "metadata": {
        "id": "vcgqlJ_HZrDD"
      },
      "source": [
        "# Observations:\n",
        "* Columns id, Airline, Flight, AirportFrom have no null values.\n",
        "* Columns AirportTo, DayOfWeek, Time, Length, Delay each have 1 null value."
      ]
    },
    {
      "cell_type": "code",
      "execution_count": null,
      "metadata": {
        "id": "jIXyLDzaSnnd"
      },
      "outputs": [],
      "source": [
        "df.isnull().sum()"
      ]
    },
    {
      "cell_type": "code",
      "execution_count": null,
      "metadata": {
        "id": "R4TFdQ7NT1SE"
      },
      "outputs": [],
      "source": [
        "df.columns"
      ]
    },
    {
      "cell_type": "code",
      "execution_count": null,
      "metadata": {
        "id": "Jc1z4dMRui5E"
      },
      "outputs": [],
      "source": [
        "df.duplicated().sum()"
      ]
    },
    {
      "cell_type": "markdown",
      "metadata": {
        "id": "kuqioUSnX2f2"
      },
      "source": [
        "# Observations:\n",
        "* WN airline has the highest number of flights.\n",
        "* ATL airport has the max number of flights leaving.\n",
        "* ATL is also the destination for max number of flights."
      ]
    },
    {
      "cell_type": "code",
      "execution_count": null,
      "metadata": {
        "id": "Ih3E8drTaz3M"
      },
      "outputs": [],
      "source": [
        "categorical_column=df.select_dtypes(\"object\").columns\n",
        "for i in categorical_column:\n",
        "  print(df[i].value_counts())\n",
        "  print(\".............................\")"
      ]
    },
    {
      "cell_type": "markdown",
      "metadata": {
        "id": "DGiR3Ek9YViW"
      },
      "source": [
        "# Observations:\n",
        "* Each flight has its own unique id.\n",
        "* flight 16 has the highest value count.\n",
        "* Maximum number of flights fly on 5th day of the week.\n",
        "* Flights with length 80 highest in number.\n",
        "* The flights having no delay are MORE than the flights having delay."
      ]
    },
    {
      "cell_type": "code",
      "execution_count": null,
      "metadata": {
        "id": "YkZL34BjbExL"
      },
      "outputs": [],
      "source": [
        "numerical_column=df.select_dtypes([\"int\",\"float\"]).columns\n",
        "for i in numerical_column:\n",
        "  print(df[i].value_counts())\n",
        "  print(\".............................\")"
      ]
    },
    {
      "cell_type": "code",
      "execution_count": null,
      "metadata": {
        "id": "A-Cuw_kdbawi"
      },
      "outputs": [],
      "source": [
        "numerical_column=df.select_dtypes([\"int\",\"float\"]).columns\n",
        "for i in numerical_column:\n",
        "  plt.figure(figsize=(5,4))\n",
        "  sns.boxplot(df[i])\n",
        "  plt.show()"
      ]
    },
    {
      "cell_type": "code",
      "execution_count": null,
      "metadata": {
        "id": "7u5en-ZwbuJw"
      },
      "outputs": [],
      "source": [
        "for i in numerical_column:\n",
        "  q1=df[i].quantile(0.25)\n",
        "  q3=df[i].quantile(0.75)\n",
        "  iqr=q3-q1\n",
        "  lower_limit=q1-1.5*iqr\n",
        "  upper_limit=q3+1.5*iqr\n",
        "  print(\"LowerLimit:\",lower_limit,\"  UpperLimit:\",upper_limit)\n",
        "  print(\"...............................................\")"
      ]
    },
    {
      "cell_type": "code",
      "execution_count": null,
      "metadata": {
        "id": "nn4y51WGcclB"
      },
      "outputs": [],
      "source": [
        "categorical_column=df.select_dtypes(\"object\").columns\n",
        "for i in categorical_column:\n",
        "  plt.figure(figsize=(4,4))\n",
        "  sns.countplot(data=df,x=i)\n",
        "  plt.xticks(rotation=90)\n",
        "  plt.show()"
      ]
    },
    {
      "cell_type": "markdown",
      "metadata": {
        "id": "bH_2dzVnaBK3"
      },
      "source": [
        "# Observations:\n",
        "* Following bar graphs show WN is has the highest number of flights(over 10k+).\n",
        "* Most number of flights are leaving from ATL.\n",
        "* Maximum number of flights have ATL as the destination.\n",
        "* There are no insights in airport_from column and airport_to column."
      ]
    },
    {
      "cell_type": "code",
      "execution_count": null,
      "metadata": {
        "id": "5cFgS4dFB1G5"
      },
      "outputs": [],
      "source": [
        "df['AirportFrom'].value_counts().keys()[0:10]"
      ]
    },
    {
      "cell_type": "code",
      "execution_count": null,
      "metadata": {
        "id": "0oaO8OQgAeOx"
      },
      "outputs": [],
      "source": [
        "airport_from_counts = df['AirportFrom'].value_counts()\n",
        "top_10_airports = airport_from_counts.head(10)\n",
        "print(\"Top 10 AirportFrom counts:\")\n",
        "print(top_10_airports)"
      ]
    },
    {
      "cell_type": "code",
      "execution_count": null,
      "metadata": {
        "id": "2K4m8gu7BhwH"
      },
      "outputs": [],
      "source": [
        "plt.bar(df['AirportFrom'].value_counts().keys()[0:10],df['AirportFrom'].value_counts().values[0:10])"
      ]
    },
    {
      "cell_type": "code",
      "execution_count": null,
      "metadata": {
        "id": "lT43vcsPdD9i"
      },
      "outputs": [],
      "source": [
        "for i in numerical_column:\n",
        "  plt.figure(figsize=(5,3))\n",
        "  sns.scatterplot(data=df,x=i,y=\"Time\")\n",
        "  plt.show()\n",
        "  plt.xticks(rotation=60)\n",
        "  plt.show()"
      ]
    },
    {
      "cell_type": "code",
      "execution_count": null,
      "metadata": {
        "id": "zc74_NUndOHT"
      },
      "outputs": [],
      "source": [
        "correlation=df[numerical_column].corr()"
      ]
    },
    {
      "cell_type": "markdown",
      "metadata": {
        "id": "GlMpwilqamma"
      },
      "source": [
        "# Observations:\n",
        "* Flight and Time have the lowest positive correlation.\n",
        "* Flight and Length have lowest correlation among all.\n",
        "* DayOfWeek and id have the highest correlation."
      ]
    },
    {
      "cell_type": "code",
      "execution_count": null,
      "metadata": {
        "id": "CC6qi4LmfuAk"
      },
      "outputs": [],
      "source": [
        "plt.figure(figsize=(8,8))\n",
        "sns.heatmap(correlation,annot=True)"
      ]
    },
    {
      "cell_type": "code",
      "execution_count": null,
      "metadata": {
        "id": "5-9v8ZotgHpJ"
      },
      "outputs": [],
      "source": [
        "for i in categorical_column:\n",
        "  plt.figure(figsize=(5,3))\n",
        "  sns.barplot(data=df,x=i,y='Time',errorbar=None)\n",
        "  plt.xticks(rotation=60)\n",
        "  plt.show()"
      ]
    },
    {
      "cell_type": "markdown",
      "metadata": {
        "id": "6udQ39xzbK4u"
      },
      "source": [
        "# Observations:\n",
        "* Except for WN every Airline has more non-delayed flights than delayed.\n",
        "* DL has the highest number of non-delayed flights.\n",
        "* WN has the highest number of delayed flights"
      ]
    },
    {
      "cell_type": "code",
      "execution_count": null,
      "metadata": {
        "id": "lh2_ZciEpbi2"
      },
      "outputs": [],
      "source": [
        "for i in categorical_column:\n",
        "  plt.figure(figsize=(10,6))\n",
        "  sns.countplot(data=df,x=i,hue='Time')\n",
        "  plt.xticks(rotation=45)\n",
        "  plt.show()"
      ]
    },
    {
      "cell_type": "code",
      "execution_count": null,
      "metadata": {
        "id": "cPowI9fdsUnS"
      },
      "outputs": [],
      "source": [
        "df_copy= df.copy()\n",
        "cat_variables= df_copy.select_dtypes('object')\n",
        "num_variables= df_copy.select_dtypes(['int','float'])"
      ]
    },
    {
      "cell_type": "code",
      "execution_count": null,
      "metadata": {
        "id": "93xN1_1Daq-Y"
      },
      "outputs": [],
      "source": [
        "cat_variables.columns"
      ]
    },
    {
      "cell_type": "code",
      "execution_count": null,
      "metadata": {
        "id": "pcKy5Znha_Ud"
      },
      "outputs": [],
      "source": [
        "num_variables.columns"
      ]
    },
    {
      "cell_type": "code",
      "execution_count": null,
      "metadata": {
        "id": "haP3L465BFVR"
      },
      "outputs": [],
      "source": [
        "print(\" No. of rows before dropping duplicates :\", df_copy.shape[0])\n",
        "df_copy.drop_duplicates(inplace=True)\n",
        "print(\" No. of rows after dropping duplicates :\", df_copy.shape[0])"
      ]
    },
    {
      "cell_type": "code",
      "execution_count": null,
      "metadata": {
        "id": "c9d7feff-16bc-4fca-82d2-92c94777a399"
      },
      "outputs": [],
      "source": [
        "print(\" No. of rows before dropping duplicates :\", df_copy.shape[0])\n",
        "df_copy.drop_duplicates(inplace=True)\n",
        "print(\" No. of rows after dropping duplicates :\", df_copy.shape[0])"
      ]
    },
    {
      "cell_type": "code",
      "execution_count": null,
      "metadata": {
        "id": "c791b9d0-1567-4b6d-a863-3a2bdbdc426b"
      },
      "outputs": [],
      "source": [
        "df.isnull().sum()"
      ]
    },
    {
      "cell_type": "code",
      "execution_count": null,
      "metadata": {
        "id": "54f78e06-2cd5-4add-a335-436c39f7ae0b"
      },
      "outputs": [],
      "source": [
        "df_copy.to_csv('df_copy1.csv', index=False)"
      ]
    },
    {
      "cell_type": "code",
      "execution_count": null,
      "metadata": {
        "id": "823c9ec8-9f78-4324-8353-84ea553a0f75"
      },
      "outputs": [],
      "source": [
        "for i in df_copy.select_dtypes(['int','float']).columns:\n",
        "    plt.figure(figsize=(5,2))\n",
        "    sns.boxplot(data=df_copy,x=i);"
      ]
    },
    {
      "cell_type": "code",
      "execution_count": null,
      "metadata": {
        "id": "e6255822-90bb-4952-823d-cc4c8d75f180"
      },
      "outputs": [],
      "source": [
        "# A.IQR Method (Interquartile Range)\n",
        "Q1 = df_copy['Length'].quantile(0.25)\n",
        "Q3 = df_copy['Length'].quantile(0.75)\n",
        "IQR = Q3 - Q1\n",
        "# Define bounds\n",
        "lower = Q1 - 1.5 * IQR\n",
        "upper = Q3 + 1.5 * IQR\n",
        "lower,upper"
      ]
    },
    {
      "cell_type": "code",
      "execution_count": null,
      "metadata": {
        "id": "64d1b5c4-2a3f-47e3-8e05-86fb279540f5"
      },
      "outputs": [],
      "source": [
        "# Filter out outliers\n",
        "df_copy[(df_copy['Length'] <= lower) | (df_copy['Length'] >= upper)]"
      ]
    },
    {
      "cell_type": "code",
      "execution_count": null,
      "metadata": {
        "id": "e694b4d3-1372-49a2-a15f-0111ef9958d4"
      },
      "outputs": [],
      "source": [
        "df_copy['Length'].quantile(0.99)"
      ]
    },
    {
      "cell_type": "code",
      "execution_count": null,
      "metadata": {
        "id": "2776008d-2959-4d90-a766-63b57f1eb659"
      },
      "outputs": [],
      "source": [
        "df_copy['Length'].describe()"
      ]
    },
    {
      "cell_type": "code",
      "execution_count": null,
      "metadata": {
        "id": "7d6d7a17-a063-4446-bfa2-3a11ad736057"
      },
      "outputs": [],
      "source": [
        "df_copy['Length'] =np.where(df_copy['Length']<= lower,df_copy['Length'].median(),df_copy['Length'])\n",
        "df_copy['Length'] =np.where(df_copy['Length']>= upper,df_copy['Length'].median(),df_copy['Length'])"
      ]
    },
    {
      "cell_type": "code",
      "execution_count": null,
      "metadata": {
        "id": "87070869-32bb-4004-a3f4-ab1132b1685f"
      },
      "outputs": [],
      "source": [
        " df_copy[(df_copy['Length'] <= lower) | (df_copy['Length'] >= upper)]"
      ]
    },
    {
      "cell_type": "code",
      "execution_count": null,
      "metadata": {
        "id": "Ljpbgs5LUuZ1"
      },
      "outputs": [],
      "source": [
        "df_copy['Length'] = np.where(df_copy['Length'] > 300, df_copy['Length'].median(), df_copy['Length'])"
      ]
    },
    {
      "cell_type": "code",
      "execution_count": null,
      "metadata": {
        "id": "59fbda32-aaa4-4973-9a6c-bfc30cdf79be"
      },
      "outputs": [],
      "source": [
        "sns.boxplot(data=df_copy, x='Length')\n",
        "# plt.xticks(np.arange(20,120,50));"
      ]
    },
    {
      "cell_type": "markdown",
      "metadata": {
        "id": "e0e21faf-b41a-40cb-aca9-fdcdad253528"
      },
      "source": [
        "#### Separating Features and Target"
      ]
    },
    {
      "cell_type": "code",
      "execution_count": null,
      "metadata": {
        "id": "f43a14d6-6c39-49b4-86d8-69b2f49223e2"
      },
      "outputs": [],
      "source": [
        "X = df_copy.drop('Time', axis=1)\n",
        "y = df_copy['Time']"
      ]
    },
    {
      "cell_type": "code",
      "execution_count": null,
      "metadata": {
        "id": "4c7228d6-52be-452e-8d26-854560267042"
      },
      "outputs": [],
      "source": [
        "X.head()"
      ]
    },
    {
      "cell_type": "code",
      "execution_count": null,
      "metadata": {
        "id": "8dedad86-2d25-4c83-863c-3d3a9314ffe9"
      },
      "outputs": [],
      "source": [
        "y"
      ]
    },
    {
      "cell_type": "code",
      "execution_count": null,
      "metadata": {
        "id": "9a34dfdd-a295-4ffc-be67-cbaa08d8ef3b"
      },
      "outputs": [],
      "source": [
        "from sklearn.model_selection import train_test_split\n",
        "X_train, X_val, y_train, y_val = train_test_split(X, y,test_size=0.2,random_state=20)"
      ]
    },
    {
      "cell_type": "code",
      "execution_count": null,
      "metadata": {
        "id": "3e7f7bd9-d31b-4bb8-8983-6756039e7e45"
      },
      "outputs": [],
      "source": [
        "pd.get_dummies(cat_variables[['Airline', 'AirportFrom', 'AirportTo']],dtype='int')"
      ]
    },
    {
      "cell_type": "code",
      "execution_count": null,
      "metadata": {
        "id": "3yMV1pe5eSGR"
      },
      "outputs": [],
      "source": [
        "num_variables=df_copy.select_dtypes(['int','float'])"
      ]
    },
    {
      "cell_type": "code",
      "execution_count": null,
      "metadata": {
        "id": "e49bb2b2-7ee9-422b-a00c-391733e65569"
      },
      "outputs": [],
      "source": [
        "# for i in ['Airline', 'AirportFrom', 'AirportTo']:\n",
        "    # print(pd.get_dummies(cat_variables[i],dtype='int'))"
      ]
    },
    {
      "cell_type": "code",
      "execution_count": null,
      "metadata": {
        "id": "2d110590-95fc-4fe2-9a91-b1049ab9d363"
      },
      "outputs": [],
      "source": [
        "cat_variables.head(2)"
      ]
    },
    {
      "cell_type": "code",
      "execution_count": null,
      "metadata": {
        "id": "677ca8ca-8591-43cf-9771-332b4aa8c7e4"
      },
      "outputs": [],
      "source": [
        "cat_variables_encoded= pd.get_dummies(cat_variables, columns=['Airline', 'AirportFrom', 'AirportTo'], dtype=int)"
      ]
    },
    {
      "cell_type": "code",
      "execution_count": null,
      "metadata": {
        "id": "1d6f9657-c469-49ba-bd6d-f50ebe261622"
      },
      "outputs": [],
      "source": [
        "cat_variables_encoded.head()"
      ]
    },
    {
      "cell_type": "code",
      "source": [
        "num_variables\n"
      ],
      "metadata": {
        "id": "FuvDJ4Lc5iUn"
      },
      "execution_count": null,
      "outputs": []
    },
    {
      "cell_type": "code",
      "execution_count": null,
      "metadata": {
        "id": "wJMg_K3kf7fU"
      },
      "outputs": [],
      "source": [
        "df_encoded = pd.concat([cat_variables_encoded,num_variables], axis=1)"
      ]
    },
    {
      "cell_type": "code",
      "execution_count": null,
      "metadata": {
        "id": "7e1d080d-ed10-4a48-af8e-1f363b19e723"
      },
      "outputs": [],
      "source": [
        "df_encoded.to_csv('df_encoded', index=False)"
      ]
    },
    {
      "cell_type": "code",
      "execution_count": null,
      "metadata": {
        "id": "cfd3eac3-c739-478d-8a16-444430fb1a88"
      },
      "outputs": [],
      "source": [
        "cat_cols=['Airline', 'AirportFrom', 'AirportTo']\n",
        "num_cols=['Flight', 'DayOfWeek', 'Time', 'Length']"
      ]
    },
    {
      "cell_type": "code",
      "execution_count": null,
      "metadata": {
        "id": "26a64c77-a709-4bc3-bb8a-854b80a18528"
      },
      "outputs": [],
      "source": [
        "# 1. Min-Max Scaling\n",
        "from sklearn.preprocessing import MinMaxScaler\n",
        "MMscaler = MinMaxScaler()\n",
        "Xtrain_scaled_MinMax = MMscaler.fit_transform(X_train[num_cols])\n",
        "Xval_scaled_MinMax = MMscaler.transform(X_val[num_cols])"
      ]
    },
    {
      "cell_type": "code",
      "execution_count": null,
      "metadata": {
        "id": "7665b726-838e-4212-83e6-e53f0bd90688"
      },
      "outputs": [],
      "source": [
        "Xtrain_scaled_MinMax=pd.DataFrame(Xtrain_scaled_MinMax,columns=X_train[num_cols].columns)\n",
        "Xval_scaled_MinMax=pd.DataFrame(Xval_scaled_MinMax,columns=X_val[num_cols].columns)"
      ]
    },
    {
      "cell_type": "code",
      "execution_count": null,
      "metadata": {
        "id": "047dbecd-26d3-4bf8-9c2c-80058131cded"
      },
      "outputs": [],
      "source": [
        "Xtrain_scaled_MinMax.head(2)"
      ]
    },
    {
      "cell_type": "code",
      "execution_count": null,
      "metadata": {
        "id": "bb71e4e2-6de7-4433-a37b-5d580fdb04d8"
      },
      "outputs": [],
      "source": [
        "X_train.head(2)"
      ]
    },
    {
      "cell_type": "code",
      "execution_count": null,
      "metadata": {
        "id": "545de2da-fe29-49b3-a015-2702b9ee6e15"
      },
      "outputs": [],
      "source": [
        "# (30-X_val['Flight'].min())/(X_val['Flight'].max()-X_val['Flight'].min())"
      ]
    },
    {
      "cell_type": "code",
      "execution_count": null,
      "metadata": {
        "id": "9cc17ff8-5860-48a4-8129-e2b0f176daab"
      },
      "outputs": [],
      "source": [
        "Xtrain_scaled_MinMax.describe()"
      ]
    },
    {
      "cell_type": "code",
      "execution_count": null,
      "metadata": {
        "id": "ccbe27fd-0527-4583-b9dd-c37f3d95f68b"
      },
      "outputs": [],
      "source": [
        "# 2. z-score Scaling (standardization)\n",
        "from sklearn.preprocessing import StandardScaler\n",
        "SSscaler = StandardScaler()\n",
        "Xtrain_scaled_StandardScalar = SSscaler.fit_transform(X_train[num_cols])\n",
        "Xval_scaled_StandardScalar = SSscaler.transform(X_val[num_cols])"
      ]
    },
    {
      "cell_type": "code",
      "execution_count": null,
      "metadata": {
        "id": "8d5ce052-0e56-4d92-8388-4ade2cdb3f6e"
      },
      "outputs": [],
      "source": [
        "Xtrain_scaled_StandardScalar=pd.DataFrame(Xtrain_scaled_StandardScalar,columns=X_train[num_cols].columns)\n",
        "Xval_scaled_StandardScalar=pd.DataFrame(Xval_scaled_StandardScalar,columns=X_val[num_cols].columns)"
      ]
    },
    {
      "cell_type": "code",
      "execution_count": null,
      "metadata": {
        "id": "97cdac67-ef7c-475d-8e99-ae09dce2ca98"
      },
      "outputs": [],
      "source": [
        "round(Xtrain_scaled_StandardScalar.describe(),2)"
      ]
    },
    {
      "cell_type": "code",
      "execution_count": null,
      "metadata": {
        "id": "3b2f31a0-f87a-42cf-8401-28b988df1952"
      },
      "outputs": [],
      "source": [
        "X_train[num_cols].head(2)"
      ]
    },
    {
      "cell_type": "code",
      "execution_count": null,
      "metadata": {
        "id": "ab73bf19-f2cf-4ca2-86e7-b2b337d9a954"
      },
      "outputs": [],
      "source": [
        "Xtrain_scaled_StandardScalar.head(2)"
      ]
    },
    {
      "cell_type": "code",
      "execution_count": null,
      "metadata": {
        "id": "aeb2d856-2b3c-4c5f-942a-2c908e6b6c97"
      },
      "outputs": [],
      "source": [
        "(45- X_train['Flight'].mean())/X_train['Flight'].std()"
      ]
    },
    {
      "cell_type": "code",
      "execution_count": null,
      "metadata": {
        "id": "6f0e80ae-e04f-456e-b826-7097c0797be3"
      },
      "outputs": [],
      "source": [
        "Xtrain_scaled_StandardScalar.shape"
      ]
    },
    {
      "cell_type": "code",
      "execution_count": null,
      "metadata": {
        "id": "b5ca4659-442d-4ce3-9aa8-ce1f6178dd17"
      },
      "outputs": [],
      "source": [
        "X_train[cat_cols].shape"
      ]
    },
    {
      "cell_type": "code",
      "execution_count": null,
      "metadata": {
        "id": "0f85c61c-ff9e-46c7-924c-d719c14c8591"
      },
      "outputs": [],
      "source": [
        "X_train[cat_cols].reset_index(drop=True)"
      ]
    },
    {
      "cell_type": "code",
      "execution_count": null,
      "metadata": {
        "id": "0a23d68e-278f-4e4a-9d72-3b99a372eff5"
      },
      "outputs": [],
      "source": [
        "scaled_train=pd.concat([Xtrain_scaled_StandardScalar,X_train[cat_cols].reset_index(drop=True)],axis=1)\n",
        "scaled_test=pd.concat([Xval_scaled_StandardScalar,X_val[cat_cols].reset_index(drop=True)],axis=1)"
      ]
    },
    {
      "cell_type": "code",
      "execution_count": null,
      "metadata": {
        "id": "e94c4cd2-cb7d-4082-9d26-77771a51a9cc"
      },
      "outputs": [],
      "source": [
        "# One-hot encode the categorical columns\n",
        "scaled_train = pd.get_dummies(scaled_train, columns=cat_cols, drop_first=True)\n",
        "scaled_test = pd.get_dummies(scaled_test, columns=cat_cols, drop_first=True)\n",
        "\n",
        "# Save the processed dataframes\n",
        "scaled_train.to_csv('Scaled_data_train',index=False)\n",
        "scaled_test.to_csv('Scaled_data_val',index=False)"
      ]
    },
    {
      "cell_type": "code",
      "execution_count": null,
      "metadata": {
        "id": "ffb74750"
      },
      "outputs": [],
      "source": [
        "import pandas as pd\n",
        "from sklearn.model_selection import train_test_split\n",
        "from sklearn.metrics import mean_squared_error, r2_score\n",
        "from sklearn.linear_model import LinearRegression\n",
        "from sklearn.neighbors import KNeighborsRegressor\n",
        "from sklearn.tree import DecisionTreeRegressor\n",
        "from sklearn.ensemble import RandomForestRegressor, AdaBoostRegressor, GradientBoostingRegressor\n",
        "# pip install xgboost\n",
        "from xgboost import XGBRegressor"
      ]
    },
    {
      "cell_type": "code",
      "execution_count": null,
      "metadata": {
        "id": "304102fc-6d73-4c31-b7a5-e9b7ce8875f0"
      },
      "outputs": [],
      "source": [
        "# loading the encoded data\n",
        "df_TrainTestSplit= pd.read_csv('df_encoded')\n",
        "\n",
        "#seperating the target variable from rest of the data\n",
        "X = df_TrainTestSplit.drop('Time', axis=1)\n",
        "y = df_TrainTestSplit['Time']\n",
        "\n",
        "# Splitting the data into train & validation set\n",
        "X_train, X_val, y_train, y_val = train_test_split(X, y,test_size=0.2,random_state=20)\n",
        "\n",
        "# Lodaing the scaled and encoded data sets\n",
        "x_trainFinal= pd.read_csv('Scaled_data_train')\n",
        "x_valFinal= pd.read_csv('Scaled_data_val')\n",
        "\n",
        "# Ensure columns match after one-hot encoding\n",
        "# This is important if some categories are only in train or test set\n",
        "train_cols = x_trainFinal.columns\n",
        "test_cols = x_valFinal.columns\n",
        "\n",
        "missing_in_test = set(train_cols) - set(test_cols)\n",
        "for c in missing_in_test:\n",
        "    x_valFinal[c] = 0\n",
        "# Ensure the order of columns is the same\n",
        "x_valFinal = x_valFinal[train_cols]"
      ]
    },
    {
      "cell_type": "code",
      "execution_count": null,
      "metadata": {
        "id": "587523f5-70fe-45a6-8ffd-e1f4e144c82f"
      },
      "outputs": [],
      "source": [
        "import numpy as np\n",
        "\n",
        "# Impute missing values with the mean\n",
        "x_trainFinal = x_trainFinal.fillna(x_trainFinal.mean())\n",
        "x_valFinal = x_valFinal.fillna(x_valFinal.mean())\n",
        "y_train = y_train.fillna(y_train.mean())\n",
        "y_val = y_val.fillna(y_val.mean())\n",
        "\n",
        "# Building a Linear regression model\n",
        "LR = LinearRegression()\n",
        "LR.fit(x_trainFinal,y_train)\n",
        "y_train_pred = LR.predict(x_trainFinal)\n",
        "y_val_pred = LR.predict(x_valFinal)\n",
        "rmse_train = np.sqrt(mean_squared_error(y_train, y_train_pred))\n",
        "r2_train = r2_score(y_train, y_train_pred)\n",
        "rmse_val = np.sqrt(mean_squared_error(y_val, y_val_pred))\n",
        "r2_val = r2_score(y_val, y_val_pred)\n",
        "print(\"Train RMSE\",rmse_train,\"| Train R2\",r2_train)\n",
        "print('Test RMSE',rmse_val,'| Test R2',r2_val)"
      ]
    }
  ],
  "metadata": {
    "colab": {
      "provenance": [],
      "include_colab_link": true
    },
    "kernelspec": {
      "display_name": "Python 3",
      "name": "python3"
    },
    "language_info": {
      "name": "python"
    }
  },
  "nbformat": 4,
  "nbformat_minor": 0
}